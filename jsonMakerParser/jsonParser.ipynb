{
 "cells": [
  {
   "cell_type": "code",
   "execution_count": 20,
   "id": "08ae6087-4c3c-4a16-80ee-3648607e66a7",
   "metadata": {},
   "outputs": [],
   "source": [
    "import json\n",
    "import csv"
   ]
  },
  {
   "cell_type": "code",
   "execution_count": 60,
   "id": "1c135014-3817-4aac-bd9b-719e01ae13eb",
   "metadata": {},
   "outputs": [
    {
     "name": "stdin",
     "output_type": "stream",
     "text": [
      "Enter start date 2024-09-15\n",
      "Enter end date 2024-09-21\n"
     ]
    }
   ],
   "source": [
    "daysOfWeek = [\"Sunday\", \"Monday\", \"Tuesday\", \"Wednesday\", \"Thursday\", \"Friday\", \"Saturday\"]\n",
    "\n",
    "weatherTemplate = {\n",
    "    \"Date Time\": \"\",\n",
    "    \"Day of Week\": \"\",\n",
    "    \"Temp Max\": None,\n",
    "    \"Temp Min\": None,\n",
    "    \"Temp\": None,\n",
    "    \"Dew\": None,\n",
    "    \"Cloud Cover\": None,\n",
    "    \"Visibility\": None,\n",
    "    \"Solar Radiation\": None,\n",
    "    \"Solar Energy\": None,\n",
    "    \"UV Index\": None,\n",
    "}\n",
    "\n",
    "def readFromJsonFile(fileName, dictionary):\n",
    "    with open(f'{fileName}.json') as inputJson:\n",
    "        data = json.load(inputJson)\n",
    "        \n",
    "        for index, day in enumerate(data['days']):\n",
    "            dictionary[daysOfWeek[index]][\"Date Time\"]       = day[\"datetime\"]\n",
    "            dictionary[daysOfWeek[index]][\"Day of Week\"]     = daysOfWeek[index]\n",
    "            dictionary[daysOfWeek[index]][\"Temp Max\"]        = day.get(\"tempmax\")\n",
    "            dictionary[daysOfWeek[index]][\"Temp Min\"]        = day.get(\"tempmin\")\n",
    "            dictionary[daysOfWeek[index]][\"Temp\"]            = day.get(\"temp\")\n",
    "            dictionary[daysOfWeek[index]][\"Dew\"]             = day.get(\"dew\")\n",
    "            dictionary[daysOfWeek[index]][\"Cloud Cover\"]     = day.get(\"cloudcover\")\n",
    "            dictionary[daysOfWeek[index]][\"Visibility\"]      = day.get(\"visibility\")\n",
    "            dictionary[daysOfWeek[index]][\"Solar Radiation\"] = day.get(\"solarradiation\")\n",
    "            dictionary[daysOfWeek[index]][\"Solar Energy\"]    = day.get(\"solarenergy\")\n",
    "            dictionary[daysOfWeek[index]][\"UV Index\"]        = day.get(\"uvindex\")\n",
    "\n",
    "def writeToCSV(dictionary, filename):\n",
    "    with open(filename, mode='w', newline='') as csvfile:\n",
    "        fieldnames = list(dictionary[daysOfWeek[0]].keys())\n",
    "        writer = csv.DictWriter(csvfile, fieldnames=fieldnames)\n",
    "\n",
    "        writer.writeheader()\n",
    "        for day in daysOfWeek:\n",
    "            writer.writerow(dictionary[day])\n",
    "\n",
    "def main():    \n",
    "    weatherDataWeekAbstract = {}\n",
    "    \n",
    "    for day in daysOfWeek:\n",
    "        weatherDataWeekAbstract[day] = weatherTemplate.copy()\n",
    "\n",
    "    startDate = str(input(\"Enter start date\"))\n",
    "    endDate = str(input(\"Enter end date\"))\n",
    "    \n",
    "    readFromJsonFile(f\"{startDate} to {endDate}\", weatherDataWeekAbstract)\n",
    "    \n",
    "    writeToCSV(weatherDataWeekAbstract, f'{startDate} to {endDate}.csv')\n",
    "\n",
    "if __name__ == \"__main__\":\n",
    "    main()\n"
   ]
  },
  {
   "cell_type": "code",
   "execution_count": null,
   "id": "cabc1bc8-3692-448f-b732-cf9b2d7959e5",
   "metadata": {},
   "outputs": [],
   "source": []
  }
 ],
 "metadata": {
  "kernelspec": {
   "display_name": "Python 3 (ipykernel)",
   "language": "python",
   "name": "python3"
  },
  "language_info": {
   "codemirror_mode": {
    "name": "ipython",
    "version": 3
   },
   "file_extension": ".py",
   "mimetype": "text/x-python",
   "name": "python",
   "nbconvert_exporter": "python",
   "pygments_lexer": "ipython3",
   "version": "3.11.5"
  }
 },
 "nbformat": 4,
 "nbformat_minor": 5
}
