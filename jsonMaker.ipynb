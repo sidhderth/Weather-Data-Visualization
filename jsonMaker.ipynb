{
 "cells": [
  {
   "cell_type": "code",
   "execution_count": 2,
   "id": "5fefd236-d4fb-4ac8-849f-32c2c16c921f",
   "metadata": {},
   "outputs": [],
   "source": [
    "import requests\n",
    "import matplotlib.pyplot as plt\n",
    "import json"
   ]
  },
  {
   "cell_type": "code",
   "execution_count": 9,
   "id": "07635e93-faac-4543-9813-c8bfdd4a00a6",
   "metadata": {},
   "outputs": [
    {
     "name": "stdin",
     "output_type": "stream",
     "text": [
      "Enter location:  Arlington,TX\n",
      "Enter start date (YYYY-MM-DD):  2024-09-15\n",
      "Enter end date (YYYY-MM-DD):  2024-09-21\n"
     ]
    },
    {
     "name": "stdout",
     "output_type": "stream",
     "text": [
      "Data saved as '2024-09-15 to 2024-09-21.json'\n"
     ]
    }
   ],
   "source": [
    "apiKey = \"Q4LEY2GWSPRKGJG9ANUK39ER2\"\n",
    "\n",
    "def jsonMaker(url, startDate, endDate):\n",
    "    response = requests.get(url)\n",
    "\n",
    "    if response.status_code == 200:\n",
    "        data = response.json()  # Parse the JSON content from the response\n",
    "        with open(f'{startDate} to {endDate}.json', 'w') as jsonFile:\n",
    "            json.dump(data, jsonFile, indent=4)  # Dump the parsed JSON data\n",
    "\n",
    "        print(f\"Data saved as '{startDate} to {endDate}.json'\")\n",
    "    else:\n",
    "        print(f\"Failed to retrieve data. Status code: {response.status_code}\")\n",
    "\n",
    "def main():\n",
    "    location = str(input(\"Enter location: \"))\n",
    "    startDate = str(input(\"Enter start date (YYYY-MM-DD): \"))\n",
    "    endDate = str(input(\"Enter end date (YYYY-MM-DD): \"))\n",
    "    \n",
    "    url = f\"https://weather.visualcrossing.com/VisualCrossingWebServices/rest/services/timeline/{location}/{startDate}/{endDate}?key={apiKey}\"\n",
    "    \n",
    "    jsonMaker(url, startDate, endDate)\n",
    "\n",
    "if __name__ == \"__main__\":\n",
    "    main()"
   ]
  },
  {
   "cell_type": "code",
   "execution_count": null,
   "id": "4f289752-81b6-48e7-b9ca-b7edfffe9212",
   "metadata": {},
   "outputs": [],
   "source": []
  }
 ],
 "metadata": {
  "kernelspec": {
   "display_name": "Python 3 (ipykernel)",
   "language": "python",
   "name": "python3"
  },
  "language_info": {
   "codemirror_mode": {
    "name": "ipython",
    "version": 3
   },
   "file_extension": ".py",
   "mimetype": "text/x-python",
   "name": "python",
   "nbconvert_exporter": "python",
   "pygments_lexer": "ipython3",
   "version": "3.12.5"
  }
 },
 "nbformat": 4,
 "nbformat_minor": 5
}
