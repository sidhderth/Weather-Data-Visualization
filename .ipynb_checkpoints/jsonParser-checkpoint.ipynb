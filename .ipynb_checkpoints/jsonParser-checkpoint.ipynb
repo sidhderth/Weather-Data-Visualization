{
 "cells": [
  {
   "cell_type": "code",
   "execution_count": 20,
   "id": "08ae6087-4c3c-4a16-80ee-3648607e66a7",
   "metadata": {},
   "outputs": [],
   "source": [
    "import json\n",
    "import csv"
   ]
  },
  {
   "cell_type": "code",
   "execution_count": 57,
   "id": "1c135014-3817-4aac-bd9b-719e01ae13eb",
   "metadata": {},
   "outputs": [
    {
     "name": "stdin",
     "output_type": "stream",
     "text": [
      "Enter start date 2024-09-01\n",
      "Enter end date 2024-09-07\n"
     ]
    },
    {
     "ename": "NameError",
     "evalue": "name 'dayOfWeek' is not defined",
     "output_type": "error",
     "traceback": [
      "\u001b[1;31m---------------------------------------------------------------------------\u001b[0m",
      "\u001b[1;31mNameError\u001b[0m                                 Traceback (most recent call last)",
      "Cell \u001b[1;32mIn[57], line 57\u001b[0m\n\u001b[0;32m     54\u001b[0m     writeToCsv(weatherDataWeekAbstract, \u001b[38;5;124mf\u001b[39m\u001b[38;5;124m'\u001b[39m\u001b[38;5;132;01m{\u001b[39;00mstartDate\u001b[38;5;132;01m}\u001b[39;00m\u001b[38;5;124m to \u001b[39m\u001b[38;5;132;01m{\u001b[39;00mendDate\u001b[38;5;132;01m}\u001b[39;00m\u001b[38;5;124m.csv\u001b[39m\u001b[38;5;124m'\u001b[39m)\n\u001b[0;32m     56\u001b[0m \u001b[38;5;28;01mif\u001b[39;00m \u001b[38;5;18m__name__\u001b[39m \u001b[38;5;241m==\u001b[39m \u001b[38;5;124m\"\u001b[39m\u001b[38;5;124m__main__\u001b[39m\u001b[38;5;124m\"\u001b[39m:\n\u001b[1;32m---> 57\u001b[0m     \u001b[43mmain\u001b[49m\u001b[43m(\u001b[49m\u001b[43m)\u001b[49m\n",
      "Cell \u001b[1;32mIn[57], line 52\u001b[0m, in \u001b[0;36mmain\u001b[1;34m()\u001b[0m\n\u001b[0;32m     49\u001b[0m startDate \u001b[38;5;241m=\u001b[39m \u001b[38;5;28mstr\u001b[39m(\u001b[38;5;28minput\u001b[39m(\u001b[38;5;124m\"\u001b[39m\u001b[38;5;124mEnter start date\u001b[39m\u001b[38;5;124m\"\u001b[39m))\n\u001b[0;32m     50\u001b[0m endDate \u001b[38;5;241m=\u001b[39m \u001b[38;5;28mstr\u001b[39m(\u001b[38;5;28minput\u001b[39m(\u001b[38;5;124m\"\u001b[39m\u001b[38;5;124mEnter end date\u001b[39m\u001b[38;5;124m\"\u001b[39m))\n\u001b[1;32m---> 52\u001b[0m \u001b[43mreadFromJsonFile\u001b[49m\u001b[43m(\u001b[49m\u001b[38;5;124;43mf\u001b[39;49m\u001b[38;5;124;43m\"\u001b[39;49m\u001b[38;5;132;43;01m{\u001b[39;49;00m\u001b[43mstartDate\u001b[49m\u001b[38;5;132;43;01m}\u001b[39;49;00m\u001b[38;5;124;43m to \u001b[39;49m\u001b[38;5;132;43;01m{\u001b[39;49;00m\u001b[43mendDate\u001b[49m\u001b[38;5;132;43;01m}\u001b[39;49;00m\u001b[38;5;124;43m\"\u001b[39;49m\u001b[43m,\u001b[49m\u001b[43m \u001b[49m\u001b[43mweatherDataWeekAbstract\u001b[49m\u001b[43m)\u001b[49m\n\u001b[0;32m     54\u001b[0m writeToCsv(weatherDataWeekAbstract, \u001b[38;5;124mf\u001b[39m\u001b[38;5;124m'\u001b[39m\u001b[38;5;132;01m{\u001b[39;00mstartDate\u001b[38;5;132;01m}\u001b[39;00m\u001b[38;5;124m to \u001b[39m\u001b[38;5;132;01m{\u001b[39;00mendDate\u001b[38;5;132;01m}\u001b[39;00m\u001b[38;5;124m.csv\u001b[39m\u001b[38;5;124m'\u001b[39m)\n",
      "Cell \u001b[1;32mIn[57], line 23\u001b[0m, in \u001b[0;36mreadFromJsonFile\u001b[1;34m(fileName, dictionary)\u001b[0m\n\u001b[0;32m     21\u001b[0m \u001b[38;5;28;01mfor\u001b[39;00m index, day \u001b[38;5;129;01min\u001b[39;00m \u001b[38;5;28menumerate\u001b[39m(data[\u001b[38;5;124m'\u001b[39m\u001b[38;5;124mdays\u001b[39m\u001b[38;5;124m'\u001b[39m]):\n\u001b[0;32m     22\u001b[0m     dictionary[daysOfWeek[index]][\u001b[38;5;124m\"\u001b[39m\u001b[38;5;124mDate Time\u001b[39m\u001b[38;5;124m\"\u001b[39m]       \u001b[38;5;241m=\u001b[39m day[\u001b[38;5;124m\"\u001b[39m\u001b[38;5;124mdatetime\u001b[39m\u001b[38;5;124m\"\u001b[39m]\n\u001b[1;32m---> 23\u001b[0m     dictionary[daysOfWeek[index]][\u001b[38;5;124m\"\u001b[39m\u001b[38;5;124mDay of Week\u001b[39m\u001b[38;5;124m\"\u001b[39m]     \u001b[38;5;241m=\u001b[39m \u001b[43mdayOfWeek\u001b[49m[index]\n\u001b[0;32m     24\u001b[0m     dictionary[daysOfWeek[index]][\u001b[38;5;124m\"\u001b[39m\u001b[38;5;124mTemp Max\u001b[39m\u001b[38;5;124m\"\u001b[39m]        \u001b[38;5;241m=\u001b[39m day\u001b[38;5;241m.\u001b[39mget(\u001b[38;5;124m\"\u001b[39m\u001b[38;5;124mtempmax\u001b[39m\u001b[38;5;124m\"\u001b[39m)\n\u001b[0;32m     25\u001b[0m     dictionary[daysOfWeek[index]][\u001b[38;5;124m\"\u001b[39m\u001b[38;5;124mTemp Min\u001b[39m\u001b[38;5;124m\"\u001b[39m]        \u001b[38;5;241m=\u001b[39m day\u001b[38;5;241m.\u001b[39mget(\u001b[38;5;124m\"\u001b[39m\u001b[38;5;124mtempmin\u001b[39m\u001b[38;5;124m\"\u001b[39m)\n",
      "\u001b[1;31mNameError\u001b[0m: name 'dayOfWeek' is not defined"
     ]
    }
   ],
   "source": [
    "daysOfWeek = [\"Sunday\", \"Monday\", \"Tuesday\", \"Wednesday\", \"Thursday\", \"Friday\", \"Saturday\"]\n",
    "\n",
    "weatherTemplate = {\n",
    "    \"Date Time\": \"\",\n",
    "    \"Day of Week\": \"\",\n",
    "    \"Temp Max\": None,\n",
    "    \"Temp Min\": None,\n",
    "    \"Temp\": None,\n",
    "    \"Dew\": None,\n",
    "    \"Cloud Cover\": None,\n",
    "    \"Visibility\": None,\n",
    "    \"Solar Radiation\": None,\n",
    "    \"Solar Energy\": None,\n",
    "    \"UV Index\": None,\n",
    "}\n",
    "\n",
    "def readFromJsonFile(fileName, dictionary):\n",
    "    with open(f'{fileName}.json') as inputJson:\n",
    "        data = json.load(inputJson)\n",
    "        \n",
    "        for index, day in enumerate(data['days']):\n",
    "            dictionary[daysOfWeek[index]][\"Date Time\"]       = day[\"datetime\"]\n",
    "            dictionary[daysOfWeek[index]][\"Day of Week\"]     = daysOfWeek[index]\n",
    "            dictionary[daysOfWeek[index]][\"Temp Max\"]        = day.get(\"tempmax\")\n",
    "            dictionary[daysOfWeek[index]][\"Temp Min\"]        = day.get(\"tempmin\")\n",
    "            dictionary[daysOfWeek[index]][\"Temp\"]            = day.get(\"temp\")\n",
    "            dictionary[daysOfWeek[index]][\"Dew\"]             = day.get(\"dew\")\n",
    "            dictionary[daysOfWeek[index]][\"Cloud Cover\"]     = day.get(\"cloudcover\")\n",
    "            dictionary[daysOfWeek[index]][\"Visibility\"]      = day.get(\"visibility\")\n",
    "            dictionary[daysOfWeek[index]][\"Solar Radiation\"] = day.get(\"solarradiation\")\n",
    "            dictionary[daysOfWeek[index]][\"Solar Energy\"]    = day.get(\"solarenergy\")\n",
    "            dictionary[daysOfWeek[index]][\"UV Index\"]        = day.get(\"uvindex\")\n",
    "\n",
    "def writeToCsv(dictionary, filename):\n",
    "    with open(filename, mode='w', newline='') as csvfile:\n",
    "        fieldnames = list(dictionary[daysOfWeek[0]].keys())\n",
    "        writer = csv.DictWriter(csvfile, fieldnames=fieldnames)\n",
    "\n",
    "        writer.writeheader()\n",
    "        for day in daysOfWeek:\n",
    "            writer.writerow(dictionary[day])\n",
    "\n",
    "def main():    \n",
    "    weatherDataWeekAbstract = {}\n",
    "    \n",
    "    for day in daysOfWeek:\n",
    "        weatherDataWeekAbstract[day] = weatherTemplate.copy()\n",
    "\n",
    "    startDate = str(input(\"Enter start date\"))\n",
    "    endDate = str(input(\"Enter end date\"))\n",
    "    \n",
    "    readFromJsonFile(f\"{startDate} to {endDate}\", weatherDataWeekAbstract)\n",
    "    \n",
    "    writeToCsv(weatherDataWeekAbstract, f'{startDate} to {endDate}.csv')\n",
    "\n",
    "if __name__ == \"__main__\":\n",
    "    main()\n"
   ]
  },
  {
   "cell_type": "code",
   "execution_count": null,
   "id": "cabc1bc8-3692-448f-b732-cf9b2d7959e5",
   "metadata": {},
   "outputs": [],
   "source": []
  }
 ],
 "metadata": {
  "kernelspec": {
   "display_name": "Python 3 (ipykernel)",
   "language": "python",
   "name": "python3"
  },
  "language_info": {
   "codemirror_mode": {
    "name": "ipython",
    "version": 3
   },
   "file_extension": ".py",
   "mimetype": "text/x-python",
   "name": "python",
   "nbconvert_exporter": "python",
   "pygments_lexer": "ipython3",
   "version": "3.12.5"
  }
 },
 "nbformat": 4,
 "nbformat_minor": 5
}
